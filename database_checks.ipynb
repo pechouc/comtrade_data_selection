{
 "cells": [
  {
   "cell_type": "code",
   "execution_count": 1,
   "metadata": {},
   "outputs": [],
   "source": [
    "import os\n",
    "\n",
    "import numpy as np\n",
    "import pandas as pd\n",
    "\n",
    "import matplotlib.pyplot as plt"
   ]
  },
  {
   "cell_type": "markdown",
   "metadata": {
    "heading_collapsed": true
   },
   "source": [
    "# File and reporter country names"
   ]
  },
  {
   "cell_type": "code",
   "execution_count": 2,
   "metadata": {
    "hidden": true,
    "scrolled": false
   },
   "outputs": [
    {
     "name": "stdout",
     "output_type": "stream",
     "text": [
      "state of palestine not in ['palestine']\n",
      "\n",
      "\n",
      "lao people's dem. rep. not in ['lao']\n",
      "\n",
      "\n",
      "antigua and barbuda not in ['antigua', 'and', 'barbuda']\n",
      "\n",
      "\n",
      "sri lanka not in ['sri', 'lanka']\n",
      "\n",
      "\n",
      "brunei darussalam not in ['brunei']\n",
      "\n",
      "\n",
      "burkina faso not in ['burkina', 'faso']\n",
      "\n",
      "\n",
      "côte d'ivoire not in ['ivory', 'coast']\n",
      "\n",
      "\n",
      "cabo verde not in ['cabo', 'verde']\n",
      "\n",
      "\n",
      "costa rica not in ['costa', 'rica']\n",
      "\n",
      "\n",
      "bosnia herzegovina not in ['bosnia', 'herzegovina']\n",
      "\n",
      "\n",
      "united arab emirates not in ['united', 'arab', 'emirates']\n",
      "\n",
      "\n",
      "rep. of korea not in ['korea']\n",
      "\n",
      "\n",
      "saint lucia not in ['saint', 'lucia']\n",
      "\n",
      "\n",
      "usa not in ['united', 'states', '2016', '2018']\n",
      "\n",
      "\n",
      "dominican rep. not in ['dominican', 'republic']\n",
      "\n",
      "\n",
      "dem. rep. of the congo not in ['democratic', 'republic', 'of', 'congo']\n",
      "\n",
      "\n",
      "saint kitts and nevis not in ['saint', 'kitts', 'and', 'nevis']\n",
      "\n",
      "\n",
      "south africa not in ['south', 'africa']\n",
      "\n",
      "\n",
      "china, macao sar not in ['macao']\n",
      "\n",
      "\n",
      "saint vincent and the grenadines not in ['saint', 'vincent', 'and', 'grenadines']\n",
      "\n",
      "\n",
      "rep. of moldova not in ['moldova']\n",
      "\n",
      "\n",
      "french polynesia not in ['french', 'polynesia']\n",
      "\n",
      "\n",
      "solomon isds not in ['solomon', 'islands']\n",
      "\n",
      "\n",
      "north macedonia not in ['north', 'macedonia']\n",
      "\n",
      "\n",
      "usa not in ['united', 'states', '2019', '2020']\n",
      "\n",
      "\n",
      "united kingdom not in ['united', 'kingdom']\n",
      "\n",
      "\n",
      "viet nam not in ['viet', 'nam']\n",
      "\n",
      "\n",
      "timor-leste not in ['timor', 'leste']\n",
      "\n",
      "\n",
      "sierra leone not in ['sierra', 'leone']\n",
      "\n",
      "\n",
      "saudi arabia not in ['saudi', 'arabia']\n",
      "\n",
      "\n",
      "united rep. of tanzania not in ['tanzania']\n",
      "\n",
      "\n",
      "central african rep. not in ['central', 'african', 'republic']\n",
      "\n",
      "\n",
      "botswana not in ['bostwana']\n",
      "\n",
      "\n",
      "bolivia (plurinational state of) not in ['bolivia']\n",
      "\n",
      "\n",
      "russian federation not in ['russia']\n",
      "\n",
      "\n",
      "china, hong kong sar not in ['hong', 'kong']\n",
      "\n",
      "\n",
      "el salvador not in ['el', 'salvador']\n",
      "\n",
      "\n",
      "sao tome and principe not in ['sao', 'tome', 'and', 'principe']\n",
      "\n",
      "\n",
      "other asia, nes not in ['other', 'asia']\n",
      "\n",
      "\n",
      "new zealand not in ['new', 'zealand']\n",
      "\n",
      "\n"
     ]
    }
   ],
   "source": [
    "for file in os.listdir('db_downloads'):\n",
    "    if not file.endswith('.csv'):\n",
    "        continue\n",
    "    country_name = file.replace('.csv', '').split('_')\n",
    "    \n",
    "    df = pd.read_csv(f'db_downloads/{file}')\n",
    "    \n",
    "    if df.shape[0] == 1:\n",
    "        continue\n",
    "        \n",
    "    reporter_name = df['Reporter'].iloc[0].lower()\n",
    "    \n",
    "    if reporter_name not in country_name:\n",
    "        print(reporter_name, 'not in', country_name)\n",
    "        print('\\n')"
   ]
  },
  {
   "cell_type": "markdown",
   "metadata": {
    "hidden": true
   },
   "source": [
    "All file names seem to be attributed to the right reporter (manual check)."
   ]
  },
  {
   "cell_type": "markdown",
   "metadata": {
    "heading_collapsed": true
   },
   "source": [
    "# Numbers of records"
   ]
  },
  {
   "cell_type": "markdown",
   "metadata": {
    "hidden": true
   },
   "source": [
    "We want to verify whether there is no weirdly recurring number of records that could indicate a download limit."
   ]
  },
  {
   "cell_type": "code",
   "execution_count": 3,
   "metadata": {
    "hidden": true
   },
   "outputs": [],
   "source": [
    "nb_records = []\n",
    "\n",
    "for file in os.listdir('db_downloads'):\n",
    "    if not file.endswith('.csv'):\n",
    "        continue\n",
    "        \n",
    "    df = pd.read_csv(f'db_downloads/{file}')\n",
    "    \n",
    "    if df.shape[0] == 1:\n",
    "        continue\n",
    "        \n",
    "    elif df.shape[0] == 100000:\n",
    "        # We print the name of the file it contains 100,000 records exactly\n",
    "        print(file)\n",
    "        nb_records.append(df.shape[0])\n",
    "        \n",
    "    elif df.shape[0] % 1000 == 0:\n",
    "        # We print the name of the file if its number of records is divisible by 1,000\n",
    "        print(file)\n",
    "        nb_records.append(df.shape[0])\n",
    "    \n",
    "    else:\n",
    "        nb_records.append(df.shape[0])"
   ]
  },
  {
   "cell_type": "code",
   "execution_count": 4,
   "metadata": {
    "hidden": true
   },
   "outputs": [
    {
     "data": {
      "image/png": "[encoded data removed]",
      "text/plain": [
       "<Figure size 432x288 with 1 Axes>"
      ]
     },
     "metadata": {
      "needs_background": "light"
     },
     "output_type": "display_data"
    }
   ],
   "source": [
    "plt.hist(nb_records, bins=25);"
   ]
  },
  {
   "cell_type": "markdown",
   "metadata": {
    "heading_collapsed": true
   },
   "source": [
    "# Countries without any data"
   ]
  },
  {
   "cell_type": "markdown",
   "metadata": {
    "hidden": true
   },
   "source": [
    "For a number of reporting countries, in absence of data, the download returns a void `csv` file.  \n",
    "\n",
    "We output a list of these countries to double-check whether this is due to a temporary issue or to an actual absence of data."
   ]
  },
  {
   "cell_type": "code",
   "execution_count": 5,
   "metadata": {
    "hidden": true
   },
   "outputs": [],
   "source": [
    "countries_without_data = []\n",
    "\n",
    "for file in os.listdir('db_downloads'):\n",
    "    if not file.endswith('.csv'):\n",
    "        continue\n",
    "        \n",
    "    df = pd.read_csv(f'db_downloads/{file}')\n",
    "    \n",
    "    if df.shape[0] == 1:\n",
    "        countries_without_data.append(file)\n",
    "        \n",
    "    else:\n",
    "        continue"
   ]
  },
  {
   "cell_type": "code",
   "execution_count": 6,
   "metadata": {
    "hidden": true
   },
   "outputs": [],
   "source": [
    "textfile = open(\"countries_without_data.txt\", \"w\")\n",
    "\n",
    "for country in sorted(countries_without_data):\n",
    "    textfile.write(country + \"\\n\")\n",
    "    \n",
    "textfile.close()"
   ]
  },
  {
   "cell_type": "markdown",
   "metadata": {
    "heading_collapsed": true
   },
   "source": [
    "# Counter-checking with total imports"
   ]
  },
  {
   "cell_type": "markdown",
   "metadata": {
    "hidden": true
   },
   "source": [
    "For each combination of reporting country, year and trade flow (either \"import\" or \"re-import\"), we verify that the total of all observations corresponds to the total value of trade. The latter is obtained by downloading the data from the UN Comtrade portal for all reporting countries, partner `World` and for the years of interest."
   ]
  },
  {
   "cell_type": "code",
   "execution_count": 7,
   "metadata": {
    "hidden": true
   },
   "outputs": [],
   "source": [
    "# Loading the totals\n",
    "total_inward_flows = pd.read_csv('agg_datasets/simplified.csv')"
   ]
  },
  {
   "cell_type": "code",
   "execution_count": 8,
   "metadata": {
    "hidden": true
   },
   "outputs": [],
   "source": [
    "total_inward_flows = total_inward_flows[\n",
    "    total_inward_flows['Trade Flow'].isin(\n",
    "        ['Import', 'Re-Import']\n",
    "    )\n",
    "].copy()"
   ]
  },
  {
   "cell_type": "code",
   "execution_count": 9,
   "metadata": {
    "hidden": true
   },
   "outputs": [
    {
     "data": {
      "text/html": [
       "<div>\n",
       "<style scoped>\n",
       "    .dataframe tbody tr th:only-of-type {\n",
       "        vertical-align: middle;\n",
       "    }\n",
       "\n",
       "    .dataframe tbody tr th {\n",
       "        vertical-align: top;\n",
       "    }\n",
       "\n",
       "    .dataframe thead th {\n",
       "        text-align: right;\n",
       "    }\n",
       "</style>\n",
       "<table border=\"1\" class=\"dataframe\">\n",
       "  <thead>\n",
       "    <tr style=\"text-align: right;\">\n",
       "      <th></th>\n",
       "      <th>Classification</th>\n",
       "      <th>Year</th>\n",
       "      <th>Period</th>\n",
       "      <th>Period Desc.</th>\n",
       "      <th>Aggregate Level</th>\n",
       "      <th>Is Leaf Code</th>\n",
       "      <th>Trade Flow Code</th>\n",
       "      <th>Trade Flow</th>\n",
       "      <th>Reporter Code</th>\n",
       "      <th>Reporter</th>\n",
       "      <th>...</th>\n",
       "      <th>Qty</th>\n",
       "      <th>Alt Qty Unit Code</th>\n",
       "      <th>Alt Qty Unit</th>\n",
       "      <th>Alt Qty</th>\n",
       "      <th>Netweight (kg)</th>\n",
       "      <th>Gross weight (kg)</th>\n",
       "      <th>Trade Value (US$)</th>\n",
       "      <th>CIF Trade Value (US$)</th>\n",
       "      <th>FOB Trade Value (US$)</th>\n",
       "      <th>Flag</th>\n",
       "    </tr>\n",
       "  </thead>\n",
       "  <tbody>\n",
       "    <tr>\n",
       "      <th>0</th>\n",
       "      <td>H4</td>\n",
       "      <td>2018</td>\n",
       "      <td>2018</td>\n",
       "      <td>2018</td>\n",
       "      <td>0</td>\n",
       "      <td>0</td>\n",
       "      <td>1</td>\n",
       "      <td>Import</td>\n",
       "      <td>4</td>\n",
       "      <td>Afghanistan</td>\n",
       "      <td>...</td>\n",
       "      <td>0.0</td>\n",
       "      <td>NaN</td>\n",
       "      <td>NaN</td>\n",
       "      <td>NaN</td>\n",
       "      <td>NaN</td>\n",
       "      <td>NaN</td>\n",
       "      <td>7406590324</td>\n",
       "      <td>NaN</td>\n",
       "      <td>NaN</td>\n",
       "      <td>4</td>\n",
       "    </tr>\n",
       "    <tr>\n",
       "      <th>3</th>\n",
       "      <td>H4</td>\n",
       "      <td>2019</td>\n",
       "      <td>2019</td>\n",
       "      <td>2019</td>\n",
       "      <td>0</td>\n",
       "      <td>0</td>\n",
       "      <td>1</td>\n",
       "      <td>Import</td>\n",
       "      <td>4</td>\n",
       "      <td>Afghanistan</td>\n",
       "      <td>...</td>\n",
       "      <td>0.0</td>\n",
       "      <td>NaN</td>\n",
       "      <td>NaN</td>\n",
       "      <td>NaN</td>\n",
       "      <td>NaN</td>\n",
       "      <td>NaN</td>\n",
       "      <td>8568013876</td>\n",
       "      <td>NaN</td>\n",
       "      <td>NaN</td>\n",
       "      <td>4</td>\n",
       "    </tr>\n",
       "    <tr>\n",
       "      <th>6</th>\n",
       "      <td>H2</td>\n",
       "      <td>2016</td>\n",
       "      <td>2016</td>\n",
       "      <td>2016</td>\n",
       "      <td>0</td>\n",
       "      <td>0</td>\n",
       "      <td>1</td>\n",
       "      <td>Import</td>\n",
       "      <td>4</td>\n",
       "      <td>Afghanistan</td>\n",
       "      <td>...</td>\n",
       "      <td>NaN</td>\n",
       "      <td>NaN</td>\n",
       "      <td>NaN</td>\n",
       "      <td>NaN</td>\n",
       "      <td>NaN</td>\n",
       "      <td>NaN</td>\n",
       "      <td>6534140413</td>\n",
       "      <td>NaN</td>\n",
       "      <td>NaN</td>\n",
       "      <td>0</td>\n",
       "    </tr>\n",
       "    <tr>\n",
       "      <th>8</th>\n",
       "      <td>H2</td>\n",
       "      <td>2017</td>\n",
       "      <td>2017</td>\n",
       "      <td>2017</td>\n",
       "      <td>0</td>\n",
       "      <td>0</td>\n",
       "      <td>1</td>\n",
       "      <td>Import</td>\n",
       "      <td>4</td>\n",
       "      <td>Afghanistan</td>\n",
       "      <td>...</td>\n",
       "      <td>0.0</td>\n",
       "      <td>NaN</td>\n",
       "      <td>NaN</td>\n",
       "      <td>NaN</td>\n",
       "      <td>NaN</td>\n",
       "      <td>NaN</td>\n",
       "      <td>7792600111</td>\n",
       "      <td>NaN</td>\n",
       "      <td>NaN</td>\n",
       "      <td>4</td>\n",
       "    </tr>\n",
       "    <tr>\n",
       "      <th>10</th>\n",
       "      <td>H5</td>\n",
       "      <td>2017</td>\n",
       "      <td>2017</td>\n",
       "      <td>2017</td>\n",
       "      <td>0</td>\n",
       "      <td>0</td>\n",
       "      <td>1</td>\n",
       "      <td>Import</td>\n",
       "      <td>8</td>\n",
       "      <td>Albania</td>\n",
       "      <td>...</td>\n",
       "      <td>0.0</td>\n",
       "      <td>NaN</td>\n",
       "      <td>NaN</td>\n",
       "      <td>NaN</td>\n",
       "      <td>0.0</td>\n",
       "      <td>NaN</td>\n",
       "      <td>5293901931</td>\n",
       "      <td>NaN</td>\n",
       "      <td>NaN</td>\n",
       "      <td>4</td>\n",
       "    </tr>\n",
       "  </tbody>\n",
       "</table>\n",
       "<p>5 rows × 35 columns</p>\n",
       "</div>"
      ],
      "text/plain": [
       "   Classification  Year  Period  Period Desc.  Aggregate Level  Is Leaf Code  \\\n",
       "0              H4  2018    2018          2018                0             0   \n",
       "3              H4  2019    2019          2019                0             0   \n",
       "6              H2  2016    2016          2016                0             0   \n",
       "8              H2  2017    2017          2017                0             0   \n",
       "10             H5  2017    2017          2017                0             0   \n",
       "\n",
       "    Trade Flow Code Trade Flow  Reporter Code     Reporter  ...  Qty  \\\n",
       "0                 1     Import              4  Afghanistan  ...  0.0   \n",
       "3                 1     Import              4  Afghanistan  ...  0.0   \n",
       "6                 1     Import              4  Afghanistan  ...  NaN   \n",
       "8                 1     Import              4  Afghanistan  ...  0.0   \n",
       "10                1     Import              8      Albania  ...  0.0   \n",
       "\n",
       "    Alt Qty Unit Code Alt Qty Unit Alt Qty  Netweight (kg)  Gross weight (kg)  \\\n",
       "0                 NaN          NaN     NaN             NaN                NaN   \n",
       "3                 NaN          NaN     NaN             NaN                NaN   \n",
       "6                 NaN          NaN     NaN             NaN                NaN   \n",
       "8                 NaN          NaN     NaN             NaN                NaN   \n",
       "10                NaN          NaN     NaN             0.0                NaN   \n",
       "\n",
       "    Trade Value (US$)  CIF Trade Value (US$)  FOB Trade Value (US$)  Flag  \n",
       "0          7406590324                    NaN                    NaN     4  \n",
       "3          8568013876                    NaN                    NaN     4  \n",
       "6          6534140413                    NaN                    NaN     0  \n",
       "8          7792600111                    NaN                    NaN     4  \n",
       "10         5293901931                    NaN                    NaN     4  \n",
       "\n",
       "[5 rows x 35 columns]"
      ]
     },
     "execution_count": 9,
     "metadata": {},
     "output_type": "execute_result"
    }
   ],
   "source": [
    "total_inward_flows.head()"
   ]
  },
  {
   "cell_type": "code",
   "execution_count": 10,
   "metadata": {
    "hidden": true
   },
   "outputs": [],
   "source": [
    "total_inward_flows['KEY'] = total_inward_flows['Reporter ISO'] + total_inward_flows['Partner ISO']\\\n",
    "    + total_inward_flows['Year'].astype(str) + total_inward_flows['Trade Flow']\n",
    "\n",
    "mapping = total_inward_flows.groupby('KEY').count()['Trade Value (US$)'].to_dict()\n",
    "total_inward_flows['NB_RECORDS'] = total_inward_flows['KEY'].map(mapping)\n",
    "\n",
    "total_inward_flows = total_inward_flows[\n",
    "    np.logical_or(\n",
    "        total_inward_flows['NB_RECORDS'] == 1,\n",
    "        np.logical_and(\n",
    "            total_inward_flows['NB_RECORDS'] > 1,\n",
    "            total_inward_flows['Classification'] == 'H5'\n",
    "        )\n",
    "    )\n",
    "].copy()"
   ]
  },
  {
   "cell_type": "code",
   "execution_count": 11,
   "metadata": {
    "hidden": true
   },
   "outputs": [],
   "source": [
    "total_inward_flows = total_inward_flows[\n",
    "    ['Year', 'Trade Flow', 'Reporter', 'Reporter ISO', 'Trade Value (US$)']\n",
    "].reset_index(drop=True)"
   ]
  },
  {
   "cell_type": "code",
   "execution_count": 12,
   "metadata": {
    "hidden": true
   },
   "outputs": [
    {
     "data": {
      "text/plain": [
       "(982, 5)"
      ]
     },
     "execution_count": 12,
     "metadata": {},
     "output_type": "execute_result"
    }
   ],
   "source": [
    "total_inward_flows.shape"
   ]
  },
  {
   "cell_type": "code",
   "execution_count": 13,
   "metadata": {
    "hidden": true
   },
   "outputs": [
    {
     "data": {
      "text/html": [
       "<div>\n",
       "<style scoped>\n",
       "    .dataframe tbody tr th:only-of-type {\n",
       "        vertical-align: middle;\n",
       "    }\n",
       "\n",
       "    .dataframe tbody tr th {\n",
       "        vertical-align: top;\n",
       "    }\n",
       "\n",
       "    .dataframe thead th {\n",
       "        text-align: right;\n",
       "    }\n",
       "</style>\n",
       "<table border=\"1\" class=\"dataframe\">\n",
       "  <thead>\n",
       "    <tr style=\"text-align: right;\">\n",
       "      <th></th>\n",
       "      <th>Year</th>\n",
       "      <th>Trade Flow</th>\n",
       "      <th>Reporter</th>\n",
       "      <th>Reporter ISO</th>\n",
       "      <th>Trade Value (US$)</th>\n",
       "    </tr>\n",
       "  </thead>\n",
       "  <tbody>\n",
       "    <tr>\n",
       "      <th>648</th>\n",
       "      <td>2016</td>\n",
       "      <td>Import</td>\n",
       "      <td>Aruba</td>\n",
       "      <td>ABW</td>\n",
       "      <td>1117122531</td>\n",
       "    </tr>\n",
       "    <tr>\n",
       "      <th>649</th>\n",
       "      <td>2017</td>\n",
       "      <td>Import</td>\n",
       "      <td>Aruba</td>\n",
       "      <td>ABW</td>\n",
       "      <td>1194930129</td>\n",
       "    </tr>\n",
       "    <tr>\n",
       "      <th>650</th>\n",
       "      <td>2018</td>\n",
       "      <td>Import</td>\n",
       "      <td>Aruba</td>\n",
       "      <td>ABW</td>\n",
       "      <td>1255956119</td>\n",
       "    </tr>\n",
       "    <tr>\n",
       "      <th>651</th>\n",
       "      <td>2019</td>\n",
       "      <td>Import</td>\n",
       "      <td>Aruba</td>\n",
       "      <td>ABW</td>\n",
       "      <td>1313806452</td>\n",
       "    </tr>\n",
       "    <tr>\n",
       "      <th>652</th>\n",
       "      <td>2020</td>\n",
       "      <td>Import</td>\n",
       "      <td>Aruba</td>\n",
       "      <td>ABW</td>\n",
       "      <td>939368007</td>\n",
       "    </tr>\n",
       "    <tr>\n",
       "      <th>2</th>\n",
       "      <td>2016</td>\n",
       "      <td>Import</td>\n",
       "      <td>Afghanistan</td>\n",
       "      <td>AFG</td>\n",
       "      <td>6534140413</td>\n",
       "    </tr>\n",
       "    <tr>\n",
       "      <th>3</th>\n",
       "      <td>2017</td>\n",
       "      <td>Import</td>\n",
       "      <td>Afghanistan</td>\n",
       "      <td>AFG</td>\n",
       "      <td>7792600111</td>\n",
       "    </tr>\n",
       "    <tr>\n",
       "      <th>0</th>\n",
       "      <td>2018</td>\n",
       "      <td>Import</td>\n",
       "      <td>Afghanistan</td>\n",
       "      <td>AFG</td>\n",
       "      <td>7406590324</td>\n",
       "    </tr>\n",
       "    <tr>\n",
       "      <th>1</th>\n",
       "      <td>2019</td>\n",
       "      <td>Import</td>\n",
       "      <td>Afghanistan</td>\n",
       "      <td>AFG</td>\n",
       "      <td>8568013876</td>\n",
       "    </tr>\n",
       "    <tr>\n",
       "      <th>19</th>\n",
       "      <td>2016</td>\n",
       "      <td>Import</td>\n",
       "      <td>Angola</td>\n",
       "      <td>AGO</td>\n",
       "      <td>14347710497</td>\n",
       "    </tr>\n",
       "    <tr>\n",
       "      <th>20</th>\n",
       "      <td>2016</td>\n",
       "      <td>Re-Import</td>\n",
       "      <td>Angola</td>\n",
       "      <td>AGO</td>\n",
       "      <td>9758989</td>\n",
       "    </tr>\n",
       "    <tr>\n",
       "      <th>21</th>\n",
       "      <td>2017</td>\n",
       "      <td>Import</td>\n",
       "      <td>Angola</td>\n",
       "      <td>AGO</td>\n",
       "      <td>15462313478</td>\n",
       "    </tr>\n",
       "    <tr>\n",
       "      <th>17</th>\n",
       "      <td>2018</td>\n",
       "      <td>Import</td>\n",
       "      <td>Angola</td>\n",
       "      <td>AGO</td>\n",
       "      <td>16036479575</td>\n",
       "    </tr>\n",
       "    <tr>\n",
       "      <th>18</th>\n",
       "      <td>2019</td>\n",
       "      <td>Import</td>\n",
       "      <td>Angola</td>\n",
       "      <td>AGO</td>\n",
       "      <td>14160145460</td>\n",
       "    </tr>\n",
       "    <tr>\n",
       "      <th>8</th>\n",
       "      <td>2016</td>\n",
       "      <td>Import</td>\n",
       "      <td>Albania</td>\n",
       "      <td>ALB</td>\n",
       "      <td>4669289913</td>\n",
       "    </tr>\n",
       "    <tr>\n",
       "      <th>4</th>\n",
       "      <td>2017</td>\n",
       "      <td>Import</td>\n",
       "      <td>Albania</td>\n",
       "      <td>ALB</td>\n",
       "      <td>5293901931</td>\n",
       "    </tr>\n",
       "    <tr>\n",
       "      <th>5</th>\n",
       "      <td>2018</td>\n",
       "      <td>Import</td>\n",
       "      <td>Albania</td>\n",
       "      <td>ALB</td>\n",
       "      <td>5941286949</td>\n",
       "    </tr>\n",
       "    <tr>\n",
       "      <th>6</th>\n",
       "      <td>2019</td>\n",
       "      <td>Import</td>\n",
       "      <td>Albania</td>\n",
       "      <td>ALB</td>\n",
       "      <td>5908003380</td>\n",
       "    </tr>\n",
       "    <tr>\n",
       "      <th>7</th>\n",
       "      <td>2020</td>\n",
       "      <td>Import</td>\n",
       "      <td>Albania</td>\n",
       "      <td>ALB</td>\n",
       "      <td>5602160201</td>\n",
       "    </tr>\n",
       "    <tr>\n",
       "      <th>15</th>\n",
       "      <td>2016</td>\n",
       "      <td>Import</td>\n",
       "      <td>Andorra</td>\n",
       "      <td>AND</td>\n",
       "      <td>1354095936</td>\n",
       "    </tr>\n",
       "  </tbody>\n",
       "</table>\n",
       "</div>"
      ],
      "text/plain": [
       "     Year Trade Flow     Reporter Reporter ISO  Trade Value (US$)\n",
       "648  2016     Import        Aruba          ABW         1117122531\n",
       "649  2017     Import        Aruba          ABW         1194930129\n",
       "650  2018     Import        Aruba          ABW         1255956119\n",
       "651  2019     Import        Aruba          ABW         1313806452\n",
       "652  2020     Import        Aruba          ABW          939368007\n",
       "2    2016     Import  Afghanistan          AFG         6534140413\n",
       "3    2017     Import  Afghanistan          AFG         7792600111\n",
       "0    2018     Import  Afghanistan          AFG         7406590324\n",
       "1    2019     Import  Afghanistan          AFG         8568013876\n",
       "19   2016     Import       Angola          AGO        14347710497\n",
       "20   2016  Re-Import       Angola          AGO            9758989\n",
       "21   2017     Import       Angola          AGO        15462313478\n",
       "17   2018     Import       Angola          AGO        16036479575\n",
       "18   2019     Import       Angola          AGO        14160145460\n",
       "8    2016     Import      Albania          ALB         4669289913\n",
       "4    2017     Import      Albania          ALB         5293901931\n",
       "5    2018     Import      Albania          ALB         5941286949\n",
       "6    2019     Import      Albania          ALB         5908003380\n",
       "7    2020     Import      Albania          ALB         5602160201\n",
       "15   2016     Import      Andorra          AND         1354095936"
      ]
     },
     "execution_count": 13,
     "metadata": {},
     "output_type": "execute_result"
    }
   ],
   "source": [
    "total_inward_flows.sort_values(by=['Reporter ISO', 'Year']).head(20)"
   ]
  },
  {
   "cell_type": "code",
   "execution_count": 14,
   "metadata": {
    "hidden": true
   },
   "outputs": [],
   "source": [
    "# Loading the data broken down by country pair, split across many csv files\n",
    "dataframes = []\n",
    "\n",
    "for file in os.listdir('db_downloads'):\n",
    "    if not file.endswith('.csv'):\n",
    "        continue\n",
    "        \n",
    "    else:\n",
    "        df = pd.read_csv(f'db_downloads/{file}')\n",
    "        \n",
    "        if df.shape[0] == 1:\n",
    "            continue\n",
    "        \n",
    "        else:\n",
    "            dataframes.append(df)"
   ]
  },
  {
   "cell_type": "code",
   "execution_count": 15,
   "metadata": {
    "hidden": true
   },
   "outputs": [],
   "source": [
    "data = pd.concat(dataframes, axis=0)"
   ]
  },
  {
   "cell_type": "code",
   "execution_count": 16,
   "metadata": {
    "hidden": true
   },
   "outputs": [],
   "source": [
    "# We add a partner country code for the observations with \"Areas, nes\" as partner\n",
    "data['Partner ISO'] = data.apply(\n",
    "    lambda row: {'Areas, nes': 'AREAS_NES'}.get(row['Partner'], row['Partner ISO']),\n",
    "    axis=1\n",
    ")"
   ]
  },
  {
   "cell_type": "code",
   "execution_count": 17,
   "metadata": {
    "hidden": true
   },
   "outputs": [
    {
     "data": {
      "text/plain": [
       "Index(['Classification', 'Year', 'Period', 'Period Desc.', 'Aggregate Level',\n",
       "       'Is Leaf Code', 'Trade Flow Code', 'Trade Flow', 'Reporter Code',\n",
       "       'Reporter', 'Reporter ISO', 'Partner Code', 'Partner', 'Partner ISO',\n",
       "       '2nd Partner Code', '2nd Partner', '2nd Partner ISO',\n",
       "       'Customs Proc. Code', 'Customs', 'Mode of Transport Code',\n",
       "       'Mode of Transport', 'Commodity Code', 'Commodity', 'Qty Unit Code',\n",
       "       'Qty Unit', 'Qty', 'Alt Qty Unit Code', 'Alt Qty Unit', 'Alt Qty',\n",
       "       'Netweight (kg)', 'Gross weight (kg)', 'Trade Value (US$)',\n",
       "       'CIF Trade Value (US$)', 'FOB Trade Value (US$)', 'Flag'],\n",
       "      dtype='object')"
      ]
     },
     "execution_count": 17,
     "metadata": {},
     "output_type": "execute_result"
    }
   ],
   "source": [
    "data.columns"
   ]
  },
  {
   "cell_type": "code",
   "execution_count": 18,
   "metadata": {
    "hidden": true
   },
   "outputs": [],
   "source": [
    "data = data.drop(columns=['2nd Partner', 'Mode of Transport Code', 'Customs Proc. Code'])"
   ]
  },
  {
   "cell_type": "code",
   "execution_count": 19,
   "metadata": {
    "hidden": true
   },
   "outputs": [],
   "source": [
    "data = data[data['Trade Flow'].isin(['Import', 'Re-Import'])].copy()\n",
    "data = data[data['Partner'] != 'World'].copy()"
   ]
  },
  {
   "cell_type": "code",
   "execution_count": 20,
   "metadata": {
    "hidden": true
   },
   "outputs": [],
   "source": [
    "data['KEY'] = data['Reporter ISO'] + data['Partner ISO'] + data['Year'].astype(str) + data['Trade Flow']\n",
    "\n",
    "mapping = data.groupby('KEY').count()['Trade Value (US$)'].to_dict()\n",
    "data['NB_RECORDS'] = data['KEY'].map(mapping)\n",
    "\n",
    "data = data[\n",
    "    np.logical_or(\n",
    "        data['NB_RECORDS'] == 1,\n",
    "        np.logical_and(\n",
    "            data['NB_RECORDS'] > 1,\n",
    "            data['Classification'] == 'H5'\n",
    "        )\n",
    "    )\n",
    "].copy()"
   ]
  },
  {
   "cell_type": "code",
   "execution_count": 21,
   "metadata": {
    "hidden": true
   },
   "outputs": [
    {
     "data": {
      "text/plain": [
       "(137753, 34)"
      ]
     },
     "execution_count": 21,
     "metadata": {},
     "output_type": "execute_result"
    }
   ],
   "source": [
    "data.shape"
   ]
  },
  {
   "cell_type": "code",
   "execution_count": 22,
   "metadata": {
    "hidden": true
   },
   "outputs": [],
   "source": [
    "grouped_df = data.groupby(\n",
    "    ['Year', 'Trade Flow', 'Reporter ISO']\n",
    ").sum()[\n",
    "    'Trade Value (US$)'\n",
    "].reset_index().sort_values(\n",
    "    by=['Reporter ISO', 'Year']\n",
    ")"
   ]
  },
  {
   "cell_type": "code",
   "execution_count": 23,
   "metadata": {
    "hidden": true
   },
   "outputs": [
    {
     "data": {
      "text/plain": [
       "(987, 4)"
      ]
     },
     "execution_count": 23,
     "metadata": {},
     "output_type": "execute_result"
    }
   ],
   "source": [
    "grouped_df.shape"
   ]
  },
  {
   "cell_type": "code",
   "execution_count": 24,
   "metadata": {
    "hidden": true
   },
   "outputs": [
    {
     "data": {
      "text/html": [
       "<div>\n",
       "<style scoped>\n",
       "    .dataframe tbody tr th:only-of-type {\n",
       "        vertical-align: middle;\n",
       "    }\n",
       "\n",
       "    .dataframe tbody tr th {\n",
       "        vertical-align: top;\n",
       "    }\n",
       "\n",
       "    .dataframe thead th {\n",
       "        text-align: right;\n",
       "    }\n",
       "</style>\n",
       "<table border=\"1\" class=\"dataframe\">\n",
       "  <thead>\n",
       "    <tr style=\"text-align: right;\">\n",
       "      <th></th>\n",
       "      <th>Year</th>\n",
       "      <th>Trade Flow</th>\n",
       "      <th>Reporter ISO</th>\n",
       "      <th>Trade Value (US$)</th>\n",
       "    </tr>\n",
       "  </thead>\n",
       "  <tbody>\n",
       "    <tr>\n",
       "      <th>0</th>\n",
       "      <td>2016</td>\n",
       "      <td>Import</td>\n",
       "      <td>ABW</td>\n",
       "      <td>1117076352</td>\n",
       "    </tr>\n",
       "    <tr>\n",
       "      <th>212</th>\n",
       "      <td>2017</td>\n",
       "      <td>Import</td>\n",
       "      <td>ABW</td>\n",
       "      <td>1194930123</td>\n",
       "    </tr>\n",
       "    <tr>\n",
       "      <th>425</th>\n",
       "      <td>2018</td>\n",
       "      <td>Import</td>\n",
       "      <td>ABW</td>\n",
       "      <td>1255956115</td>\n",
       "    </tr>\n",
       "    <tr>\n",
       "      <th>634</th>\n",
       "      <td>2019</td>\n",
       "      <td>Import</td>\n",
       "      <td>ABW</td>\n",
       "      <td>1313806445</td>\n",
       "    </tr>\n",
       "    <tr>\n",
       "      <th>825</th>\n",
       "      <td>2020</td>\n",
       "      <td>Import</td>\n",
       "      <td>ABW</td>\n",
       "      <td>939368002</td>\n",
       "    </tr>\n",
       "    <tr>\n",
       "      <th>1</th>\n",
       "      <td>2016</td>\n",
       "      <td>Import</td>\n",
       "      <td>AFG</td>\n",
       "      <td>6529076402</td>\n",
       "    </tr>\n",
       "    <tr>\n",
       "      <th>213</th>\n",
       "      <td>2017</td>\n",
       "      <td>Import</td>\n",
       "      <td>AFG</td>\n",
       "      <td>7785377289</td>\n",
       "    </tr>\n",
       "    <tr>\n",
       "      <th>426</th>\n",
       "      <td>2018</td>\n",
       "      <td>Import</td>\n",
       "      <td>AFG</td>\n",
       "      <td>7401465470</td>\n",
       "    </tr>\n",
       "    <tr>\n",
       "      <th>635</th>\n",
       "      <td>2019</td>\n",
       "      <td>Import</td>\n",
       "      <td>AFG</td>\n",
       "      <td>8565014391</td>\n",
       "    </tr>\n",
       "    <tr>\n",
       "      <th>2</th>\n",
       "      <td>2016</td>\n",
       "      <td>Import</td>\n",
       "      <td>AGO</td>\n",
       "      <td>14326493648</td>\n",
       "    </tr>\n",
       "    <tr>\n",
       "      <th>168</th>\n",
       "      <td>2016</td>\n",
       "      <td>Re-Import</td>\n",
       "      <td>AGO</td>\n",
       "      <td>9758989</td>\n",
       "    </tr>\n",
       "    <tr>\n",
       "      <th>214</th>\n",
       "      <td>2017</td>\n",
       "      <td>Import</td>\n",
       "      <td>AGO</td>\n",
       "      <td>15444262296</td>\n",
       "    </tr>\n",
       "    <tr>\n",
       "      <th>427</th>\n",
       "      <td>2018</td>\n",
       "      <td>Import</td>\n",
       "      <td>AGO</td>\n",
       "      <td>16018550326</td>\n",
       "    </tr>\n",
       "    <tr>\n",
       "      <th>636</th>\n",
       "      <td>2019</td>\n",
       "      <td>Import</td>\n",
       "      <td>AGO</td>\n",
       "      <td>14151135490</td>\n",
       "    </tr>\n",
       "    <tr>\n",
       "      <th>3</th>\n",
       "      <td>2016</td>\n",
       "      <td>Import</td>\n",
       "      <td>ALB</td>\n",
       "      <td>4658559295</td>\n",
       "    </tr>\n",
       "    <tr>\n",
       "      <th>215</th>\n",
       "      <td>2017</td>\n",
       "      <td>Import</td>\n",
       "      <td>ALB</td>\n",
       "      <td>5285511683</td>\n",
       "    </tr>\n",
       "    <tr>\n",
       "      <th>428</th>\n",
       "      <td>2018</td>\n",
       "      <td>Import</td>\n",
       "      <td>ALB</td>\n",
       "      <td>5931535792</td>\n",
       "    </tr>\n",
       "    <tr>\n",
       "      <th>637</th>\n",
       "      <td>2019</td>\n",
       "      <td>Import</td>\n",
       "      <td>ALB</td>\n",
       "      <td>5900128288</td>\n",
       "    </tr>\n",
       "    <tr>\n",
       "      <th>826</th>\n",
       "      <td>2020</td>\n",
       "      <td>Import</td>\n",
       "      <td>ALB</td>\n",
       "      <td>5593978150</td>\n",
       "    </tr>\n",
       "    <tr>\n",
       "      <th>4</th>\n",
       "      <td>2016</td>\n",
       "      <td>Import</td>\n",
       "      <td>AND</td>\n",
       "      <td>1342548949</td>\n",
       "    </tr>\n",
       "  </tbody>\n",
       "</table>\n",
       "</div>"
      ],
      "text/plain": [
       "     Year Trade Flow Reporter ISO  Trade Value (US$)\n",
       "0    2016     Import          ABW         1117076352\n",
       "212  2017     Import          ABW         1194930123\n",
       "425  2018     Import          ABW         1255956115\n",
       "634  2019     Import          ABW         1313806445\n",
       "825  2020     Import          ABW          939368002\n",
       "1    2016     Import          AFG         6529076402\n",
       "213  2017     Import          AFG         7785377289\n",
       "426  2018     Import          AFG         7401465470\n",
       "635  2019     Import          AFG         8565014391\n",
       "2    2016     Import          AGO        14326493648\n",
       "168  2016  Re-Import          AGO            9758989\n",
       "214  2017     Import          AGO        15444262296\n",
       "427  2018     Import          AGO        16018550326\n",
       "636  2019     Import          AGO        14151135490\n",
       "3    2016     Import          ALB         4658559295\n",
       "215  2017     Import          ALB         5285511683\n",
       "428  2018     Import          ALB         5931535792\n",
       "637  2019     Import          ALB         5900128288\n",
       "826  2020     Import          ALB         5593978150\n",
       "4    2016     Import          AND         1342548949"
      ]
     },
     "execution_count": 24,
     "metadata": {},
     "output_type": "execute_result"
    }
   ],
   "source": [
    "grouped_df.head(20)"
   ]
  },
  {
   "cell_type": "code",
   "execution_count": 25,
   "metadata": {
    "hidden": true
   },
   "outputs": [
    {
     "data": {
      "text/plain": [
       "Year                 0\n",
       "Trade Flow           0\n",
       "Reporter             0\n",
       "Reporter ISO         0\n",
       "Trade Value (US$)    0\n",
       "dtype: int64"
      ]
     },
     "execution_count": 25,
     "metadata": {},
     "output_type": "execute_result"
    }
   ],
   "source": [
    "# 3 rows with missing ISO codes for \"Other Asia, nes\" as a reporter\n",
    "total_inward_flows.isnull().sum()"
   ]
  },
  {
   "cell_type": "code",
   "execution_count": 26,
   "metadata": {
    "hidden": true
   },
   "outputs": [],
   "source": [
    "merged_df = total_inward_flows.dropna().merge(   # NB: we eliminate the rows with missing ISO codes for Other Asia\n",
    "    grouped_df,\n",
    "    on=['Year', 'Trade Flow', 'Reporter ISO'],\n",
    "    how='left'\n",
    ")"
   ]
  },
  {
   "cell_type": "code",
   "execution_count": 27,
   "metadata": {
    "hidden": true
   },
   "outputs": [
    {
     "data": {
      "text/html": [
       "<div>\n",
       "<style scoped>\n",
       "    .dataframe tbody tr th:only-of-type {\n",
       "        vertical-align: middle;\n",
       "    }\n",
       "\n",
       "    .dataframe tbody tr th {\n",
       "        vertical-align: top;\n",
       "    }\n",
       "\n",
       "    .dataframe thead th {\n",
       "        text-align: right;\n",
       "    }\n",
       "</style>\n",
       "<table border=\"1\" class=\"dataframe\">\n",
       "  <thead>\n",
       "    <tr style=\"text-align: right;\">\n",
       "      <th></th>\n",
       "      <th>Year</th>\n",
       "      <th>Trade Flow</th>\n",
       "      <th>Reporter</th>\n",
       "      <th>Reporter ISO</th>\n",
       "      <th>Trade Value (US$)_x</th>\n",
       "      <th>Trade Value (US$)_y</th>\n",
       "    </tr>\n",
       "  </thead>\n",
       "  <tbody>\n",
       "  </tbody>\n",
       "</table>\n",
       "</div>"
      ],
      "text/plain": [
       "Empty DataFrame\n",
       "Columns: [Year, Trade Flow, Reporter, Reporter ISO, Trade Value (US$)_x, Trade Value (US$)_y]\n",
       "Index: []"
      ]
     },
     "execution_count": 27,
     "metadata": {},
     "output_type": "execute_result"
    }
   ],
   "source": [
    "merged_df[merged_df['Trade Value (US$)_y'].isnull()]"
   ]
  },
  {
   "cell_type": "code",
   "execution_count": 28,
   "metadata": {
    "hidden": true
   },
   "outputs": [],
   "source": [
    "temp = merged_df.dropna().copy()"
   ]
  },
  {
   "cell_type": "code",
   "execution_count": 29,
   "metadata": {
    "hidden": true
   },
   "outputs": [
    {
     "data": {
      "text/html": [
       "<div>\n",
       "<style scoped>\n",
       "    .dataframe tbody tr th:only-of-type {\n",
       "        vertical-align: middle;\n",
       "    }\n",
       "\n",
       "    .dataframe tbody tr th {\n",
       "        vertical-align: top;\n",
       "    }\n",
       "\n",
       "    .dataframe thead th {\n",
       "        text-align: right;\n",
       "    }\n",
       "</style>\n",
       "<table border=\"1\" class=\"dataframe\">\n",
       "  <thead>\n",
       "    <tr style=\"text-align: right;\">\n",
       "      <th></th>\n",
       "      <th>Year</th>\n",
       "      <th>Trade Flow</th>\n",
       "      <th>Reporter</th>\n",
       "      <th>Reporter ISO</th>\n",
       "      <th>Trade Value (US$)_x</th>\n",
       "      <th>Trade Value (US$)_y</th>\n",
       "    </tr>\n",
       "  </thead>\n",
       "  <tbody>\n",
       "    <tr>\n",
       "      <th>0</th>\n",
       "      <td>2018</td>\n",
       "      <td>Import</td>\n",
       "      <td>Afghanistan</td>\n",
       "      <td>AFG</td>\n",
       "      <td>7406590324</td>\n",
       "      <td>7401465470</td>\n",
       "    </tr>\n",
       "    <tr>\n",
       "      <th>1</th>\n",
       "      <td>2019</td>\n",
       "      <td>Import</td>\n",
       "      <td>Afghanistan</td>\n",
       "      <td>AFG</td>\n",
       "      <td>8568013876</td>\n",
       "      <td>8565014391</td>\n",
       "    </tr>\n",
       "    <tr>\n",
       "      <th>2</th>\n",
       "      <td>2016</td>\n",
       "      <td>Import</td>\n",
       "      <td>Afghanistan</td>\n",
       "      <td>AFG</td>\n",
       "      <td>6534140413</td>\n",
       "      <td>6529076402</td>\n",
       "    </tr>\n",
       "    <tr>\n",
       "      <th>3</th>\n",
       "      <td>2017</td>\n",
       "      <td>Import</td>\n",
       "      <td>Afghanistan</td>\n",
       "      <td>AFG</td>\n",
       "      <td>7792600111</td>\n",
       "      <td>7785377289</td>\n",
       "    </tr>\n",
       "    <tr>\n",
       "      <th>4</th>\n",
       "      <td>2017</td>\n",
       "      <td>Import</td>\n",
       "      <td>Albania</td>\n",
       "      <td>ALB</td>\n",
       "      <td>5293901931</td>\n",
       "      <td>5285511683</td>\n",
       "    </tr>\n",
       "  </tbody>\n",
       "</table>\n",
       "</div>"
      ],
      "text/plain": [
       "   Year Trade Flow     Reporter Reporter ISO  Trade Value (US$)_x  \\\n",
       "0  2018     Import  Afghanistan          AFG           7406590324   \n",
       "1  2019     Import  Afghanistan          AFG           8568013876   \n",
       "2  2016     Import  Afghanistan          AFG           6534140413   \n",
       "3  2017     Import  Afghanistan          AFG           7792600111   \n",
       "4  2017     Import      Albania          ALB           5293901931   \n",
       "\n",
       "   Trade Value (US$)_y  \n",
       "0           7401465470  \n",
       "1           8565014391  \n",
       "2           6529076402  \n",
       "3           7785377289  \n",
       "4           5285511683  "
      ]
     },
     "execution_count": 29,
     "metadata": {},
     "output_type": "execute_result"
    }
   ],
   "source": [
    "temp.head()"
   ]
  },
  {
   "cell_type": "code",
   "execution_count": 30,
   "metadata": {
    "hidden": true
   },
   "outputs": [],
   "source": [
    "temp['DIFF'] = np.abs(temp['Trade Value (US$)_x'] - temp['Trade Value (US$)_y']).values"
   ]
  },
  {
   "cell_type": "code",
   "execution_count": 31,
   "metadata": {
    "hidden": true
   },
   "outputs": [],
   "source": [
    "temp['%_DIFF'] = temp['DIFF'] / temp['Trade Value (US$)_x'] * 100"
   ]
  },
  {
   "cell_type": "code",
   "execution_count": 32,
   "metadata": {
    "hidden": true,
    "scrolled": false
   },
   "outputs": [
    {
     "data": {
      "text/html": [
       "<div>\n",
       "<style scoped>\n",
       "    .dataframe tbody tr th:only-of-type {\n",
       "        vertical-align: middle;\n",
       "    }\n",
       "\n",
       "    .dataframe tbody tr th {\n",
       "        vertical-align: top;\n",
       "    }\n",
       "\n",
       "    .dataframe thead th {\n",
       "        text-align: right;\n",
       "    }\n",
       "</style>\n",
       "<table border=\"1\" class=\"dataframe\">\n",
       "  <thead>\n",
       "    <tr style=\"text-align: right;\">\n",
       "      <th></th>\n",
       "      <th>Year</th>\n",
       "      <th>Trade Flow</th>\n",
       "      <th>Reporter</th>\n",
       "      <th>Reporter ISO</th>\n",
       "      <th>Trade Value (US$)_x</th>\n",
       "      <th>Trade Value (US$)_y</th>\n",
       "      <th>DIFF</th>\n",
       "      <th>%_DIFF</th>\n",
       "    </tr>\n",
       "  </thead>\n",
       "  <tbody>\n",
       "    <tr>\n",
       "      <th>838</th>\n",
       "      <td>2020</td>\n",
       "      <td>Re-Import</td>\n",
       "      <td>Spain</td>\n",
       "      <td>ESP</td>\n",
       "      <td>1829040013</td>\n",
       "      <td>1506551574</td>\n",
       "      <td>322488439</td>\n",
       "      <td>17.631568</td>\n",
       "    </tr>\n",
       "    <tr>\n",
       "      <th>697</th>\n",
       "      <td>2019</td>\n",
       "      <td>Import</td>\n",
       "      <td>Panama</td>\n",
       "      <td>PAN</td>\n",
       "      <td>21484233253</td>\n",
       "      <td>18349764904</td>\n",
       "      <td>3134468349</td>\n",
       "      <td>14.589622</td>\n",
       "    </tr>\n",
       "    <tr>\n",
       "      <th>22</th>\n",
       "      <td>2016</td>\n",
       "      <td>Import</td>\n",
       "      <td>Antigua and Barbuda</td>\n",
       "      <td>ATG</td>\n",
       "      <td>490525305</td>\n",
       "      <td>419129210</td>\n",
       "      <td>71396095</td>\n",
       "      <td>14.555028</td>\n",
       "    </tr>\n",
       "    <tr>\n",
       "      <th>840</th>\n",
       "      <td>2019</td>\n",
       "      <td>Re-Import</td>\n",
       "      <td>Spain</td>\n",
       "      <td>ESP</td>\n",
       "      <td>2675001277</td>\n",
       "      <td>2287458460</td>\n",
       "      <td>387542817</td>\n",
       "      <td>14.487575</td>\n",
       "    </tr>\n",
       "    <tr>\n",
       "      <th>696</th>\n",
       "      <td>2018</td>\n",
       "      <td>Import</td>\n",
       "      <td>Panama</td>\n",
       "      <td>PAN</td>\n",
       "      <td>22974913294</td>\n",
       "      <td>19701943382</td>\n",
       "      <td>3272969912</td>\n",
       "      <td>14.245842</td>\n",
       "    </tr>\n",
       "    <tr>\n",
       "      <th>695</th>\n",
       "      <td>2017</td>\n",
       "      <td>Import</td>\n",
       "      <td>Panama</td>\n",
       "      <td>PAN</td>\n",
       "      <td>21934113569</td>\n",
       "      <td>18976822425</td>\n",
       "      <td>2957291144</td>\n",
       "      <td>13.482611</td>\n",
       "    </tr>\n",
       "    <tr>\n",
       "      <th>836</th>\n",
       "      <td>2016</td>\n",
       "      <td>Re-Import</td>\n",
       "      <td>Spain</td>\n",
       "      <td>ESP</td>\n",
       "      <td>2498363425</td>\n",
       "      <td>2175868327</td>\n",
       "      <td>322495098</td>\n",
       "      <td>12.908254</td>\n",
       "    </tr>\n",
       "    <tr>\n",
       "      <th>842</th>\n",
       "      <td>2018</td>\n",
       "      <td>Re-Import</td>\n",
       "      <td>Spain</td>\n",
       "      <td>ESP</td>\n",
       "      <td>2255811063</td>\n",
       "      <td>1970158664</td>\n",
       "      <td>285652399</td>\n",
       "      <td>12.662958</td>\n",
       "    </tr>\n",
       "    <tr>\n",
       "      <th>698</th>\n",
       "      <td>2020</td>\n",
       "      <td>Import</td>\n",
       "      <td>Panama</td>\n",
       "      <td>PAN</td>\n",
       "      <td>14716521688</td>\n",
       "      <td>13022499657</td>\n",
       "      <td>1694022031</td>\n",
       "      <td>11.511022</td>\n",
       "    </tr>\n",
       "    <tr>\n",
       "      <th>431</th>\n",
       "      <td>2019</td>\n",
       "      <td>Import</td>\n",
       "      <td>Israel</td>\n",
       "      <td>ISR</td>\n",
       "      <td>76578559000</td>\n",
       "      <td>67819969000</td>\n",
       "      <td>8758590000</td>\n",
       "      <td>11.437392</td>\n",
       "    </tr>\n",
       "    <tr>\n",
       "      <th>795</th>\n",
       "      <td>2020</td>\n",
       "      <td>Import</td>\n",
       "      <td>Singapore</td>\n",
       "      <td>SGP</td>\n",
       "      <td>328624455636</td>\n",
       "      <td>292341060940</td>\n",
       "      <td>36283394696</td>\n",
       "      <td>11.040990</td>\n",
       "    </tr>\n",
       "    <tr>\n",
       "      <th>834</th>\n",
       "      <td>2017</td>\n",
       "      <td>Re-Import</td>\n",
       "      <td>Spain</td>\n",
       "      <td>ESP</td>\n",
       "      <td>2733234543</td>\n",
       "      <td>2454922472</td>\n",
       "      <td>278312071</td>\n",
       "      <td>10.182517</td>\n",
       "    </tr>\n",
       "    <tr>\n",
       "      <th>205</th>\n",
       "      <td>2020</td>\n",
       "      <td>Import</td>\n",
       "      <td>China</td>\n",
       "      <td>CHN</td>\n",
       "      <td>2055590611924</td>\n",
       "      <td>1854925242990</td>\n",
       "      <td>200665368934</td>\n",
       "      <td>9.761933</td>\n",
       "    </tr>\n",
       "    <tr>\n",
       "      <th>396</th>\n",
       "      <td>2020</td>\n",
       "      <td>Import</td>\n",
       "      <td>China, Hong Kong SAR</td>\n",
       "      <td>HKG</td>\n",
       "      <td>573061309610</td>\n",
       "      <td>519091948655</td>\n",
       "      <td>53969360955</td>\n",
       "      <td>9.417729</td>\n",
       "    </tr>\n",
       "    <tr>\n",
       "      <th>805</th>\n",
       "      <td>2016</td>\n",
       "      <td>Import</td>\n",
       "      <td>Slovakia</td>\n",
       "      <td>SVK</td>\n",
       "      <td>74920610772</td>\n",
       "      <td>68089549708</td>\n",
       "      <td>6831061064</td>\n",
       "      <td>9.117733</td>\n",
       "    </tr>\n",
       "  </tbody>\n",
       "</table>\n",
       "</div>"
      ],
      "text/plain": [
       "     Year Trade Flow              Reporter Reporter ISO  Trade Value (US$)_x  \\\n",
       "838  2020  Re-Import                 Spain          ESP           1829040013   \n",
       "697  2019     Import                Panama          PAN          21484233253   \n",
       "22   2016     Import   Antigua and Barbuda          ATG            490525305   \n",
       "840  2019  Re-Import                 Spain          ESP           2675001277   \n",
       "696  2018     Import                Panama          PAN          22974913294   \n",
       "695  2017     Import                Panama          PAN          21934113569   \n",
       "836  2016  Re-Import                 Spain          ESP           2498363425   \n",
       "842  2018  Re-Import                 Spain          ESP           2255811063   \n",
       "698  2020     Import                Panama          PAN          14716521688   \n",
       "431  2019     Import                Israel          ISR          76578559000   \n",
       "795  2020     Import             Singapore          SGP         328624455636   \n",
       "834  2017  Re-Import                 Spain          ESP           2733234543   \n",
       "205  2020     Import                 China          CHN        2055590611924   \n",
       "396  2020     Import  China, Hong Kong SAR          HKG         573061309610   \n",
       "805  2016     Import              Slovakia          SVK          74920610772   \n",
       "\n",
       "     Trade Value (US$)_y          DIFF     %_DIFF  \n",
       "838           1506551574     322488439  17.631568  \n",
       "697          18349764904    3134468349  14.589622  \n",
       "22             419129210      71396095  14.555028  \n",
       "840           2287458460     387542817  14.487575  \n",
       "696          19701943382    3272969912  14.245842  \n",
       "695          18976822425    2957291144  13.482611  \n",
       "836           2175868327     322495098  12.908254  \n",
       "842           1970158664     285652399  12.662958  \n",
       "698          13022499657    1694022031  11.511022  \n",
       "431          67819969000    8758590000  11.437392  \n",
       "795         292341060940   36283394696  11.040990  \n",
       "834           2454922472     278312071  10.182517  \n",
       "205        1854925242990  200665368934   9.761933  \n",
       "396         519091948655   53969360955   9.417729  \n",
       "805          68089549708    6831061064   9.117733  "
      ]
     },
     "execution_count": 32,
     "metadata": {},
     "output_type": "execute_result"
    }
   ],
   "source": [
    "temp.sort_values(by='%_DIFF', ascending=False).head(15)"
   ]
  },
  {
   "cell_type": "markdown",
   "metadata": {
    "hidden": true
   },
   "source": [
    "With these manipulations, the match is rather good (maximum discrepany of around 18%) between the bilaterally broken down data and the totals downloaded directly from the UN Comtrade portal. However, for some reporting countries and especially for re-imports, excluding \"Areas, nes\" (e.g., by not attributing it a partner country code in the code above) may yield to large discrepancies."
   ]
  },
  {
   "cell_type": "markdown",
   "metadata": {
    "heading_collapsed": true
   },
   "source": [
    "# Data selection process"
   ]
  },
  {
   "cell_type": "markdown",
   "metadata": {
    "heading_collapsed": true,
    "hidden": true
   },
   "source": [
    "## Testing the Python file"
   ]
  },
  {
   "cell_type": "code",
   "execution_count": 33,
   "metadata": {
    "hidden": true
   },
   "outputs": [],
   "source": [
    "from data_selection import get_selected_data"
   ]
  },
  {
   "cell_type": "code",
   "execution_count": 34,
   "metadata": {
    "hidden": true
   },
   "outputs": [
    {
     "name": "stdout",
     "output_type": "stream",
     "text": [
      "CPU times: user 3.04 s, sys: 603 ms, total: 3.65 s\n",
      "Wall time: 3.91 s\n"
     ]
    }
   ],
   "source": [
    "%%time\n",
    "data = get_selected_data()"
   ]
  },
  {
   "cell_type": "code",
   "execution_count": 35,
   "metadata": {
    "hidden": true
   },
   "outputs": [
    {
     "data": {
      "text/html": [
       "<div>\n",
       "<style scoped>\n",
       "    .dataframe tbody tr th:only-of-type {\n",
       "        vertical-align: middle;\n",
       "    }\n",
       "\n",
       "    .dataframe tbody tr th {\n",
       "        vertical-align: top;\n",
       "    }\n",
       "\n",
       "    .dataframe thead th {\n",
       "        text-align: right;\n",
       "    }\n",
       "</style>\n",
       "<table border=\"1\" class=\"dataframe\">\n",
       "  <thead>\n",
       "    <tr style=\"text-align: right;\">\n",
       "      <th></th>\n",
       "      <th>Year</th>\n",
       "      <th>Trade Flow</th>\n",
       "      <th>Reporter</th>\n",
       "      <th>Reporter ISO</th>\n",
       "      <th>Partner</th>\n",
       "      <th>Partner ISO</th>\n",
       "      <th>Trade Value (US$)</th>\n",
       "    </tr>\n",
       "  </thead>\n",
       "  <tbody>\n",
       "    <tr>\n",
       "      <th>0</th>\n",
       "      <td>2019</td>\n",
       "      <td>Import</td>\n",
       "      <td>Ethiopia</td>\n",
       "      <td>ETH</td>\n",
       "      <td>Afghanistan</td>\n",
       "      <td>AFG</td>\n",
       "      <td>23983</td>\n",
       "    </tr>\n",
       "    <tr>\n",
       "      <th>1</th>\n",
       "      <td>2019</td>\n",
       "      <td>Import</td>\n",
       "      <td>Ethiopia</td>\n",
       "      <td>ETH</td>\n",
       "      <td>Albania</td>\n",
       "      <td>ALB</td>\n",
       "      <td>218934</td>\n",
       "    </tr>\n",
       "    <tr>\n",
       "      <th>2</th>\n",
       "      <td>2019</td>\n",
       "      <td>Import</td>\n",
       "      <td>Ethiopia</td>\n",
       "      <td>ETH</td>\n",
       "      <td>Algeria</td>\n",
       "      <td>DZA</td>\n",
       "      <td>468931</td>\n",
       "    </tr>\n",
       "    <tr>\n",
       "      <th>3</th>\n",
       "      <td>2019</td>\n",
       "      <td>Import</td>\n",
       "      <td>Ethiopia</td>\n",
       "      <td>ETH</td>\n",
       "      <td>American Samoa</td>\n",
       "      <td>ASM</td>\n",
       "      <td>567242</td>\n",
       "    </tr>\n",
       "    <tr>\n",
       "      <th>4</th>\n",
       "      <td>2019</td>\n",
       "      <td>Import</td>\n",
       "      <td>Ethiopia</td>\n",
       "      <td>ETH</td>\n",
       "      <td>Andorra</td>\n",
       "      <td>AND</td>\n",
       "      <td>2443933</td>\n",
       "    </tr>\n",
       "  </tbody>\n",
       "</table>\n",
       "</div>"
      ],
      "text/plain": [
       "   Year Trade Flow  Reporter Reporter ISO         Partner Partner ISO  \\\n",
       "0  2019     Import  Ethiopia          ETH     Afghanistan         AFG   \n",
       "1  2019     Import  Ethiopia          ETH         Albania         ALB   \n",
       "2  2019     Import  Ethiopia          ETH         Algeria         DZA   \n",
       "3  2019     Import  Ethiopia          ETH  American Samoa         ASM   \n",
       "4  2019     Import  Ethiopia          ETH         Andorra         AND   \n",
       "\n",
       "   Trade Value (US$)  \n",
       "0              23983  \n",
       "1             218934  \n",
       "2             468931  \n",
       "3             567242  \n",
       "4            2443933  "
      ]
     },
     "execution_count": 35,
     "metadata": {},
     "output_type": "execute_result"
    }
   ],
   "source": [
    "data.head()"
   ]
  },
  {
   "cell_type": "markdown",
   "metadata": {
    "heading_collapsed": true,
    "hidden": true
   },
   "source": [
    "## Partial preprocessing"
   ]
  },
  {
   "cell_type": "markdown",
   "metadata": {
    "hidden": true
   },
   "source": [
    "What follows should be operated in the `destination_based_sales` package, where I prepare trade statistics."
   ]
  },
  {
   "cell_type": "code",
   "execution_count": 36,
   "metadata": {
    "hidden": true
   },
   "outputs": [],
   "source": [
    "# Eliminating certain reporting entities in which we are not interested\n",
    "data = data[~data['Reporter'].isin(['EU-28', 'ASEAN', 'Other Asia, nes'])].copy()"
   ]
  },
  {
   "cell_type": "code",
   "execution_count": 37,
   "metadata": {
    "hidden": true
   },
   "outputs": [],
   "source": [
    "# Eliminating certain partner entities in which we are not interested\n",
    "data = data[\n",
    "    ~data['Partner'].isin(\n",
    "        [\n",
    "            'Other Asia, nes', 'Special Categories', 'Other Africa, nes', 'Areas, nes', \n",
    "            'Other Europe, nes', 'Bunkers', 'LAIA, nes', 'Oceania, nes', \n",
    "            'North America and Central America, nes', 'Free Zones'\n",
    "        ]\n",
    "    )\n",
    "].copy()"
   ]
  },
  {
   "cell_type": "code",
   "execution_count": 38,
   "metadata": {
    "hidden": true
   },
   "outputs": [],
   "source": [
    "data = data.drop(columns=['Reporter', 'Partner'])"
   ]
  },
  {
   "cell_type": "code",
   "execution_count": 39,
   "metadata": {
    "hidden": true
   },
   "outputs": [],
   "source": [
    "data_reshaped = data.pivot(\n",
    "    index=['Year', 'Reporter ISO', 'Partner ISO'],\n",
    "    columns='Trade Flow',\n",
    "    values='Trade Value (US$)'\n",
    ").reset_index()"
   ]
  },
  {
   "cell_type": "code",
   "execution_count": 40,
   "metadata": {
    "hidden": true
   },
   "outputs": [],
   "source": [
    "data_reshaped['Re-Import'] = data_reshaped['Re-Import'].fillna(0)"
   ]
  },
  {
   "cell_type": "code",
   "execution_count": 41,
   "metadata": {
    "hidden": true
   },
   "outputs": [],
   "source": [
    "data_reshaped['NET_IMPORTS'] = data_reshaped['Import'] - data_reshaped['Re-Import']"
   ]
  },
  {
   "cell_type": "code",
   "execution_count": 42,
   "metadata": {
    "hidden": true
   },
   "outputs": [],
   "source": [
    "data_reshaped = data_reshaped.drop(columns=['Import', 'Re-Import'])"
   ]
  },
  {
   "cell_type": "code",
   "execution_count": 43,
   "metadata": {
    "hidden": true
   },
   "outputs": [],
   "source": [
    "data_reshaped = data_reshaped.rename(\n",
    "    columns={\n",
    "        'Year': 'YEAR',\n",
    "        'Reporter ISO': 'OTHER_COUNTRY_CODE',\n",
    "        'Partner ISO': 'AFFILIATE_COUNTRY_CODE',\n",
    "        'NET_IMPORTS': 'MERCHANDISE_EXPORTS'\n",
    "    }\n",
    ")"
   ]
  },
  {
   "cell_type": "code",
   "execution_count": 44,
   "metadata": {
    "hidden": true
   },
   "outputs": [
    {
     "data": {
      "text/html": [
       "<div>\n",
       "<style scoped>\n",
       "    .dataframe tbody tr th:only-of-type {\n",
       "        vertical-align: middle;\n",
       "    }\n",
       "\n",
       "    .dataframe tbody tr th {\n",
       "        vertical-align: top;\n",
       "    }\n",
       "\n",
       "    .dataframe thead th {\n",
       "        text-align: right;\n",
       "    }\n",
       "</style>\n",
       "<table border=\"1\" class=\"dataframe\">\n",
       "  <thead>\n",
       "    <tr style=\"text-align: right;\">\n",
       "      <th>Trade Flow</th>\n",
       "      <th>YEAR</th>\n",
       "      <th>OTHER_COUNTRY_CODE</th>\n",
       "      <th>AFFILIATE_COUNTRY_CODE</th>\n",
       "      <th>MERCHANDISE_EXPORTS</th>\n",
       "    </tr>\n",
       "  </thead>\n",
       "  <tbody>\n",
       "    <tr>\n",
       "      <th>0</th>\n",
       "      <td>2016</td>\n",
       "      <td>ABW</td>\n",
       "      <td>BEL</td>\n",
       "      <td>476502.0</td>\n",
       "    </tr>\n",
       "    <tr>\n",
       "      <th>1</th>\n",
       "      <td>2016</td>\n",
       "      <td>ABW</td>\n",
       "      <td>BHS</td>\n",
       "      <td>901364.0</td>\n",
       "    </tr>\n",
       "    <tr>\n",
       "      <th>2</th>\n",
       "      <td>2016</td>\n",
       "      <td>ABW</td>\n",
       "      <td>BRA</td>\n",
       "      <td>14347015.0</td>\n",
       "    </tr>\n",
       "    <tr>\n",
       "      <th>3</th>\n",
       "      <td>2016</td>\n",
       "      <td>ABW</td>\n",
       "      <td>CHE</td>\n",
       "      <td>688192.0</td>\n",
       "    </tr>\n",
       "    <tr>\n",
       "      <th>4</th>\n",
       "      <td>2016</td>\n",
       "      <td>ABW</td>\n",
       "      <td>CHN</td>\n",
       "      <td>17022453.0</td>\n",
       "    </tr>\n",
       "  </tbody>\n",
       "</table>\n",
       "</div>"
      ],
      "text/plain": [
       "Trade Flow  YEAR OTHER_COUNTRY_CODE AFFILIATE_COUNTRY_CODE  \\\n",
       "0           2016                ABW                    BEL   \n",
       "1           2016                ABW                    BHS   \n",
       "2           2016                ABW                    BRA   \n",
       "3           2016                ABW                    CHE   \n",
       "4           2016                ABW                    CHN   \n",
       "\n",
       "Trade Flow  MERCHANDISE_EXPORTS  \n",
       "0                      476502.0  \n",
       "1                      901364.0  \n",
       "2                    14347015.0  \n",
       "3                      688192.0  \n",
       "4                    17022453.0  "
      ]
     },
     "execution_count": 44,
     "metadata": {},
     "output_type": "execute_result"
    }
   ],
   "source": [
    "data_reshaped.head()"
   ]
  },
  {
   "cell_type": "markdown",
   "metadata": {
    "heading_collapsed": true,
    "hidden": true
   },
   "source": [
    "## Identifying a headquarter country bias?"
   ]
  },
  {
   "cell_type": "code",
   "execution_count": 45,
   "metadata": {
    "hidden": true
   },
   "outputs": [],
   "source": [
    "# BEA data"
   ]
  },
  {
   "cell_type": "code",
   "execution_count": 46,
   "metadata": {
    "hidden": true
   },
   "outputs": [],
   "source": [
    "from destination_based_sales.bea import BEADataPreprocessor"
   ]
  },
  {
   "cell_type": "code",
   "execution_count": 47,
   "metadata": {
    "hidden": true
   },
   "outputs": [],
   "source": [
    "processor = BEADataPreprocessor(year=2016)"
   ]
  },
  {
   "cell_type": "code",
   "execution_count": 48,
   "metadata": {
    "hidden": true
   },
   "outputs": [],
   "source": [
    "bea_data = processor.load_final_data()"
   ]
  },
  {
   "cell_type": "code",
   "execution_count": 49,
   "metadata": {
    "hidden": true
   },
   "outputs": [],
   "source": [
    "bea_data = bea_data[['CODE', 'TOTAL_OTHER_COUNTRY', 'TOTAL_US']].copy()"
   ]
  },
  {
   "cell_type": "code",
   "execution_count": 50,
   "metadata": {
    "hidden": true
   },
   "outputs": [],
   "source": [
    "bea_data['US_WEIGHT'] = bea_data['TOTAL_US'] / (bea_data['TOTAL_OTHER_COUNTRY'] + bea_data['TOTAL_US']) * 100"
   ]
  },
  {
   "cell_type": "code",
   "execution_count": 51,
   "metadata": {
    "hidden": true
   },
   "outputs": [],
   "source": [
    "# Comtrade data"
   ]
  },
  {
   "cell_type": "code",
   "execution_count": 52,
   "metadata": {
    "hidden": true
   },
   "outputs": [],
   "source": [
    "comtrade_data = data_reshaped[data_reshaped['YEAR'] == 2016].drop(columns='YEAR')"
   ]
  },
  {
   "cell_type": "code",
   "execution_count": 53,
   "metadata": {
    "hidden": true
   },
   "outputs": [
    {
     "data": {
      "text/html": [
       "<div>\n",
       "<style scoped>\n",
       "    .dataframe tbody tr th:only-of-type {\n",
       "        vertical-align: middle;\n",
       "    }\n",
       "\n",
       "    .dataframe tbody tr th {\n",
       "        vertical-align: top;\n",
       "    }\n",
       "\n",
       "    .dataframe thead th {\n",
       "        text-align: right;\n",
       "    }\n",
       "</style>\n",
       "<table border=\"1\" class=\"dataframe\">\n",
       "  <thead>\n",
       "    <tr style=\"text-align: right;\">\n",
       "      <th>Trade Flow</th>\n",
       "      <th>OTHER_COUNTRY_CODE</th>\n",
       "      <th>AFFILIATE_COUNTRY_CODE</th>\n",
       "      <th>MERCHANDISE_EXPORTS</th>\n",
       "    </tr>\n",
       "  </thead>\n",
       "  <tbody>\n",
       "    <tr>\n",
       "      <th>0</th>\n",
       "      <td>ABW</td>\n",
       "      <td>BEL</td>\n",
       "      <td>4.765020e+05</td>\n",
       "    </tr>\n",
       "    <tr>\n",
       "      <th>1</th>\n",
       "      <td>ABW</td>\n",
       "      <td>BHS</td>\n",
       "      <td>9.013640e+05</td>\n",
       "    </tr>\n",
       "    <tr>\n",
       "      <th>2</th>\n",
       "      <td>ABW</td>\n",
       "      <td>BRA</td>\n",
       "      <td>1.434702e+07</td>\n",
       "    </tr>\n",
       "    <tr>\n",
       "      <th>3</th>\n",
       "      <td>ABW</td>\n",
       "      <td>CHE</td>\n",
       "      <td>6.881920e+05</td>\n",
       "    </tr>\n",
       "    <tr>\n",
       "      <th>4</th>\n",
       "      <td>ABW</td>\n",
       "      <td>CHN</td>\n",
       "      <td>1.702245e+07</td>\n",
       "    </tr>\n",
       "    <tr>\n",
       "      <th>...</th>\n",
       "      <td>...</td>\n",
       "      <td>...</td>\n",
       "      <td>...</td>\n",
       "    </tr>\n",
       "    <tr>\n",
       "      <th>27619</th>\n",
       "      <td>ZWE</td>\n",
       "      <td>VNM</td>\n",
       "      <td>1.330285e+06</td>\n",
       "    </tr>\n",
       "    <tr>\n",
       "      <th>27620</th>\n",
       "      <td>ZWE</td>\n",
       "      <td>WLF</td>\n",
       "      <td>1.320000e+02</td>\n",
       "    </tr>\n",
       "    <tr>\n",
       "      <th>27621</th>\n",
       "      <td>ZWE</td>\n",
       "      <td>YEM</td>\n",
       "      <td>9.200000e+01</td>\n",
       "    </tr>\n",
       "    <tr>\n",
       "      <th>27622</th>\n",
       "      <td>ZWE</td>\n",
       "      <td>ZAF</td>\n",
       "      <td>2.177861e+09</td>\n",
       "    </tr>\n",
       "    <tr>\n",
       "      <th>27623</th>\n",
       "      <td>ZWE</td>\n",
       "      <td>ZMB</td>\n",
       "      <td>1.826535e+08</td>\n",
       "    </tr>\n",
       "  </tbody>\n",
       "</table>\n",
       "<p>27624 rows × 3 columns</p>\n",
       "</div>"
      ],
      "text/plain": [
       "Trade Flow OTHER_COUNTRY_CODE AFFILIATE_COUNTRY_CODE  MERCHANDISE_EXPORTS\n",
       "0                         ABW                    BEL         4.765020e+05\n",
       "1                         ABW                    BHS         9.013640e+05\n",
       "2                         ABW                    BRA         1.434702e+07\n",
       "3                         ABW                    CHE         6.881920e+05\n",
       "4                         ABW                    CHN         1.702245e+07\n",
       "...                       ...                    ...                  ...\n",
       "27619                     ZWE                    VNM         1.330285e+06\n",
       "27620                     ZWE                    WLF         1.320000e+02\n",
       "27621                     ZWE                    YEM         9.200000e+01\n",
       "27622                     ZWE                    ZAF         2.177861e+09\n",
       "27623                     ZWE                    ZMB         1.826535e+08\n",
       "\n",
       "[27624 rows x 3 columns]"
      ]
     },
     "execution_count": 53,
     "metadata": {},
     "output_type": "execute_result"
    }
   ],
   "source": [
    "comtrade_data"
   ]
  },
  {
   "cell_type": "code",
   "execution_count": 54,
   "metadata": {
    "hidden": true
   },
   "outputs": [],
   "source": [
    "comtrade_data_grouped = comtrade_data.groupby('AFFILIATE_COUNTRY_CODE').sum().reset_index()"
   ]
  },
  {
   "cell_type": "code",
   "execution_count": 55,
   "metadata": {
    "hidden": true
   },
   "outputs": [],
   "source": [
    "def get_exports_to_the_US(country_code):\n",
    "    df = comtrade_data[\n",
    "        np.logical_and(\n",
    "            comtrade_data['AFFILIATE_COUNTRY_CODE'] == country_code,\n",
    "            comtrade_data['OTHER_COUNTRY_CODE'] == 'USA'\n",
    "        )\n",
    "    ].copy()\n",
    "    \n",
    "    if df.empty:\n",
    "        return 0\n",
    "    \n",
    "    else:\n",
    "        return df['MERCHANDISE_EXPORTS'].iloc[0]"
   ]
  },
  {
   "cell_type": "code",
   "execution_count": 56,
   "metadata": {
    "hidden": true
   },
   "outputs": [],
   "source": [
    "comtrade_data_grouped['US_MERCHANDISE_EXPORTS'] = comtrade_data_grouped['AFFILIATE_COUNTRY_CODE'].map(\n",
    "    get_exports_to_the_US\n",
    ")"
   ]
  },
  {
   "cell_type": "code",
   "execution_count": 57,
   "metadata": {
    "hidden": true
   },
   "outputs": [],
   "source": [
    "comtrade_data_grouped['US_WEIGHT_EXPORTS'] = (\n",
    "    comtrade_data_grouped['US_MERCHANDISE_EXPORTS'] / comtrade_data_grouped['MERCHANDISE_EXPORTS']\n",
    ") * 100"
   ]
  },
  {
   "cell_type": "code",
   "execution_count": 58,
   "metadata": {
    "hidden": true
   },
   "outputs": [],
   "source": [
    "# Merging the two datasets"
   ]
  },
  {
   "cell_type": "code",
   "execution_count": 59,
   "metadata": {
    "hidden": true
   },
   "outputs": [
    {
     "data": {
      "text/html": [
       "<div>\n",
       "<style scoped>\n",
       "    .dataframe tbody tr th:only-of-type {\n",
       "        vertical-align: middle;\n",
       "    }\n",
       "\n",
       "    .dataframe tbody tr th {\n",
       "        vertical-align: top;\n",
       "    }\n",
       "\n",
       "    .dataframe thead th {\n",
       "        text-align: right;\n",
       "    }\n",
       "</style>\n",
       "<table border=\"1\" class=\"dataframe\">\n",
       "  <thead>\n",
       "    <tr style=\"text-align: right;\">\n",
       "      <th></th>\n",
       "      <th>CODE</th>\n",
       "      <th>US_WEIGHT</th>\n",
       "      <th>AFFILIATE_COUNTRY_CODE</th>\n",
       "      <th>US_WEIGHT_EXPORTS</th>\n",
       "    </tr>\n",
       "  </thead>\n",
       "  <tbody>\n",
       "    <tr>\n",
       "      <th>0</th>\n",
       "      <td>CAN</td>\n",
       "      <td>84.016308</td>\n",
       "      <td>CAN</td>\n",
       "      <td>67.469044</td>\n",
       "    </tr>\n",
       "    <tr>\n",
       "      <th>1</th>\n",
       "      <td>AUT</td>\n",
       "      <td>22.730730</td>\n",
       "      <td>AUT</td>\n",
       "      <td>7.746451</td>\n",
       "    </tr>\n",
       "    <tr>\n",
       "      <th>2</th>\n",
       "      <td>BEL</td>\n",
       "      <td>16.704569</td>\n",
       "      <td>BEL</td>\n",
       "      <td>5.770212</td>\n",
       "    </tr>\n",
       "    <tr>\n",
       "      <th>3</th>\n",
       "      <td>CZE</td>\n",
       "      <td>6.493701</td>\n",
       "      <td>CZE</td>\n",
       "      <td>3.090049</td>\n",
       "    </tr>\n",
       "    <tr>\n",
       "      <th>4</th>\n",
       "      <td>DNK</td>\n",
       "      <td>16.648970</td>\n",
       "      <td>DNK</td>\n",
       "      <td>9.686980</td>\n",
       "    </tr>\n",
       "    <tr>\n",
       "      <th>5</th>\n",
       "      <td>FIN</td>\n",
       "      <td>44.418825</td>\n",
       "      <td>FIN</td>\n",
       "      <td>7.579000</td>\n",
       "    </tr>\n",
       "    <tr>\n",
       "      <th>6</th>\n",
       "      <td>FRA</td>\n",
       "      <td>13.417396</td>\n",
       "      <td>FRA</td>\n",
       "      <td>9.477241</td>\n",
       "    </tr>\n",
       "    <tr>\n",
       "      <th>7</th>\n",
       "      <td>DEU</td>\n",
       "      <td>15.120352</td>\n",
       "      <td>DEU</td>\n",
       "      <td>9.461992</td>\n",
       "    </tr>\n",
       "    <tr>\n",
       "      <th>8</th>\n",
       "      <td>GRC</td>\n",
       "      <td>8.436725</td>\n",
       "      <td>GRC</td>\n",
       "      <td>5.247229</td>\n",
       "    </tr>\n",
       "    <tr>\n",
       "      <th>9</th>\n",
       "      <td>HUN</td>\n",
       "      <td>15.417853</td>\n",
       "      <td>HUN</td>\n",
       "      <td>5.454689</td>\n",
       "    </tr>\n",
       "    <tr>\n",
       "      <th>10</th>\n",
       "      <td>IRL</td>\n",
       "      <td>24.693634</td>\n",
       "      <td>IRL</td>\n",
       "      <td>28.713771</td>\n",
       "    </tr>\n",
       "    <tr>\n",
       "      <th>11</th>\n",
       "      <td>ITA</td>\n",
       "      <td>28.816845</td>\n",
       "      <td>ITA</td>\n",
       "      <td>10.332892</td>\n",
       "    </tr>\n",
       "    <tr>\n",
       "      <th>12</th>\n",
       "      <td>LUX</td>\n",
       "      <td>38.278444</td>\n",
       "      <td>LUX</td>\n",
       "      <td>3.265020</td>\n",
       "    </tr>\n",
       "    <tr>\n",
       "      <th>13</th>\n",
       "      <td>NLD</td>\n",
       "      <td>18.407056</td>\n",
       "      <td>NLD</td>\n",
       "      <td>4.120276</td>\n",
       "    </tr>\n",
       "    <tr>\n",
       "      <th>14</th>\n",
       "      <td>NOR</td>\n",
       "      <td>11.449488</td>\n",
       "      <td>NOR</td>\n",
       "      <td>3.197002</td>\n",
       "    </tr>\n",
       "    <tr>\n",
       "      <th>15</th>\n",
       "      <td>POL</td>\n",
       "      <td>8.079443</td>\n",
       "      <td>POL</td>\n",
       "      <td>3.228427</td>\n",
       "    </tr>\n",
       "    <tr>\n",
       "      <th>16</th>\n",
       "      <td>PRT</td>\n",
       "      <td>24.828829</td>\n",
       "      <td>PRT</td>\n",
       "      <td>6.104096</td>\n",
       "    </tr>\n",
       "    <tr>\n",
       "      <th>17</th>\n",
       "      <td>RUS</td>\n",
       "      <td>11.570946</td>\n",
       "      <td>RUS</td>\n",
       "      <td>3.852077</td>\n",
       "    </tr>\n",
       "    <tr>\n",
       "      <th>18</th>\n",
       "      <td>ESP</td>\n",
       "      <td>7.486062</td>\n",
       "      <td>ESP</td>\n",
       "      <td>5.267618</td>\n",
       "    </tr>\n",
       "    <tr>\n",
       "      <th>19</th>\n",
       "      <td>SWE</td>\n",
       "      <td>18.068514</td>\n",
       "      <td>SWE</td>\n",
       "      <td>7.485732</td>\n",
       "    </tr>\n",
       "    <tr>\n",
       "      <th>20</th>\n",
       "      <td>CHE</td>\n",
       "      <td>13.067481</td>\n",
       "      <td>CHE</td>\n",
       "      <td>8.340488</td>\n",
       "    </tr>\n",
       "    <tr>\n",
       "      <th>21</th>\n",
       "      <td>TUR</td>\n",
       "      <td>11.985173</td>\n",
       "      <td>TUR</td>\n",
       "      <td>3.988372</td>\n",
       "    </tr>\n",
       "    <tr>\n",
       "      <th>22</th>\n",
       "      <td>GBR</td>\n",
       "      <td>26.438923</td>\n",
       "      <td>GBR</td>\n",
       "      <td>15.047389</td>\n",
       "    </tr>\n",
       "    <tr>\n",
       "      <th>23</th>\n",
       "      <td>ARG</td>\n",
       "      <td>23.824149</td>\n",
       "      <td>ARG</td>\n",
       "      <td>7.077039</td>\n",
       "    </tr>\n",
       "    <tr>\n",
       "      <th>24</th>\n",
       "      <td>BRA</td>\n",
       "      <td>21.177418</td>\n",
       "      <td>BRA</td>\n",
       "      <td>11.801849</td>\n",
       "    </tr>\n",
       "    <tr>\n",
       "      <th>25</th>\n",
       "      <td>CHL</td>\n",
       "      <td>10.005191</td>\n",
       "      <td>CHL</td>\n",
       "      <td>13.759062</td>\n",
       "    </tr>\n",
       "    <tr>\n",
       "      <th>26</th>\n",
       "      <td>COL</td>\n",
       "      <td>8.138659</td>\n",
       "      <td>COL</td>\n",
       "      <td>34.718387</td>\n",
       "    </tr>\n",
       "    <tr>\n",
       "      <th>27</th>\n",
       "      <td>ECU</td>\n",
       "      <td>13.280212</td>\n",
       "      <td>ECU</td>\n",
       "      <td>30.468275</td>\n",
       "    </tr>\n",
       "    <tr>\n",
       "      <th>28</th>\n",
       "      <td>PER</td>\n",
       "      <td>9.666601</td>\n",
       "      <td>PER</td>\n",
       "      <td>15.189731</td>\n",
       "    </tr>\n",
       "    <tr>\n",
       "      <th>29</th>\n",
       "      <td>VEN</td>\n",
       "      <td>NaN</td>\n",
       "      <td>VEN</td>\n",
       "      <td>37.273747</td>\n",
       "    </tr>\n",
       "    <tr>\n",
       "      <th>30</th>\n",
       "      <td>CRI</td>\n",
       "      <td>49.105299</td>\n",
       "      <td>CRI</td>\n",
       "      <td>29.263770</td>\n",
       "    </tr>\n",
       "    <tr>\n",
       "      <th>31</th>\n",
       "      <td>HND</td>\n",
       "      <td>17.760618</td>\n",
       "      <td>HND</td>\n",
       "      <td>50.381498</td>\n",
       "    </tr>\n",
       "    <tr>\n",
       "      <th>32</th>\n",
       "      <td>MEX</td>\n",
       "      <td>81.227121</td>\n",
       "      <td>MEX</td>\n",
       "      <td>69.853170</td>\n",
       "    </tr>\n",
       "    <tr>\n",
       "      <th>33</th>\n",
       "      <td>PAN</td>\n",
       "      <td>47.045952</td>\n",
       "      <td>PAN</td>\n",
       "      <td>7.120881</td>\n",
       "    </tr>\n",
       "    <tr>\n",
       "      <th>34</th>\n",
       "      <td>BRB</td>\n",
       "      <td>40.670330</td>\n",
       "      <td>BRB</td>\n",
       "      <td>14.555807</td>\n",
       "    </tr>\n",
       "    <tr>\n",
       "      <th>35</th>\n",
       "      <td>BMU</td>\n",
       "      <td>44.929922</td>\n",
       "      <td>BMU</td>\n",
       "      <td>3.253179</td>\n",
       "    </tr>\n",
       "    <tr>\n",
       "      <th>36</th>\n",
       "      <td>DOM</td>\n",
       "      <td>67.875318</td>\n",
       "      <td>DOM</td>\n",
       "      <td>47.826556</td>\n",
       "    </tr>\n",
       "    <tr>\n",
       "      <th>37</th>\n",
       "      <td>EGY</td>\n",
       "      <td>8.296943</td>\n",
       "      <td>EGY</td>\n",
       "      <td>4.806042</td>\n",
       "    </tr>\n",
       "    <tr>\n",
       "      <th>38</th>\n",
       "      <td>NGA</td>\n",
       "      <td>NaN</td>\n",
       "      <td>NGA</td>\n",
       "      <td>9.006663</td>\n",
       "    </tr>\n",
       "    <tr>\n",
       "      <th>39</th>\n",
       "      <td>ZAF</td>\n",
       "      <td>36.045335</td>\n",
       "      <td>ZAF</td>\n",
       "      <td>5.475745</td>\n",
       "    </tr>\n",
       "    <tr>\n",
       "      <th>40</th>\n",
       "      <td>ISR</td>\n",
       "      <td>58.431104</td>\n",
       "      <td>ISR</td>\n",
       "      <td>31.310394</td>\n",
       "    </tr>\n",
       "    <tr>\n",
       "      <th>41</th>\n",
       "      <td>SAU</td>\n",
       "      <td>NaN</td>\n",
       "      <td>SAU</td>\n",
       "      <td>9.493747</td>\n",
       "    </tr>\n",
       "    <tr>\n",
       "      <th>42</th>\n",
       "      <td>ARE</td>\n",
       "      <td>7.700757</td>\n",
       "      <td>ARE</td>\n",
       "      <td>2.139736</td>\n",
       "    </tr>\n",
       "    <tr>\n",
       "      <th>43</th>\n",
       "      <td>AUS</td>\n",
       "      <td>16.499712</td>\n",
       "      <td>AUS</td>\n",
       "      <td>4.572268</td>\n",
       "    </tr>\n",
       "    <tr>\n",
       "      <th>44</th>\n",
       "      <td>CHN</td>\n",
       "      <td>35.681397</td>\n",
       "      <td>CHN</td>\n",
       "      <td>18.431125</td>\n",
       "    </tr>\n",
       "    <tr>\n",
       "      <th>45</th>\n",
       "      <td>HKG</td>\n",
       "      <td>67.113412</td>\n",
       "      <td>HKG</td>\n",
       "      <td>7.475750</td>\n",
       "    </tr>\n",
       "    <tr>\n",
       "      <th>46</th>\n",
       "      <td>IND</td>\n",
       "      <td>63.592052</td>\n",
       "      <td>IND</td>\n",
       "      <td>16.592748</td>\n",
       "    </tr>\n",
       "    <tr>\n",
       "      <th>47</th>\n",
       "      <td>IDN</td>\n",
       "      <td>2.165778</td>\n",
       "      <td>IDN</td>\n",
       "      <td>11.119513</td>\n",
       "    </tr>\n",
       "    <tr>\n",
       "      <th>48</th>\n",
       "      <td>JPN</td>\n",
       "      <td>17.951514</td>\n",
       "      <td>JPN</td>\n",
       "      <td>17.819089</td>\n",
       "    </tr>\n",
       "    <tr>\n",
       "      <th>49</th>\n",
       "      <td>KOR</td>\n",
       "      <td>18.203536</td>\n",
       "      <td>KOR</td>\n",
       "      <td>12.862772</td>\n",
       "    </tr>\n",
       "    <tr>\n",
       "      <th>50</th>\n",
       "      <td>MYS</td>\n",
       "      <td>39.596299</td>\n",
       "      <td>MYS</td>\n",
       "      <td>13.314190</td>\n",
       "    </tr>\n",
       "    <tr>\n",
       "      <th>51</th>\n",
       "      <td>NZL</td>\n",
       "      <td>35.342186</td>\n",
       "      <td>NZL</td>\n",
       "      <td>11.140590</td>\n",
       "    </tr>\n",
       "    <tr>\n",
       "      <th>52</th>\n",
       "      <td>PHL</td>\n",
       "      <td>35.908844</td>\n",
       "      <td>PHL</td>\n",
       "      <td>12.563752</td>\n",
       "    </tr>\n",
       "    <tr>\n",
       "      <th>53</th>\n",
       "      <td>SGP</td>\n",
       "      <td>11.916034</td>\n",
       "      <td>SGP</td>\n",
       "      <td>8.174683</td>\n",
       "    </tr>\n",
       "    <tr>\n",
       "      <th>54</th>\n",
       "      <td>THA</td>\n",
       "      <td>31.029396</td>\n",
       "      <td>THA</td>\n",
       "      <td>11.844928</td>\n",
       "    </tr>\n",
       "  </tbody>\n",
       "</table>\n",
       "</div>"
      ],
      "text/plain": [
       "   CODE  US_WEIGHT AFFILIATE_COUNTRY_CODE  US_WEIGHT_EXPORTS\n",
       "0   CAN  84.016308                    CAN          67.469044\n",
       "1   AUT  22.730730                    AUT           7.746451\n",
       "2   BEL  16.704569                    BEL           5.770212\n",
       "3   CZE   6.493701                    CZE           3.090049\n",
       "4   DNK  16.648970                    DNK           9.686980\n",
       "5   FIN  44.418825                    FIN           7.579000\n",
       "6   FRA  13.417396                    FRA           9.477241\n",
       "7   DEU  15.120352                    DEU           9.461992\n",
       "8   GRC   8.436725                    GRC           5.247229\n",
       "9   HUN  15.417853                    HUN           5.454689\n",
       "10  IRL  24.693634                    IRL          28.713771\n",
       "11  ITA  28.816845                    ITA          10.332892\n",
       "12  LUX  38.278444                    LUX           3.265020\n",
       "13  NLD  18.407056                    NLD           4.120276\n",
       "14  NOR  11.449488                    NOR           3.197002\n",
       "15  POL   8.079443                    POL           3.228427\n",
       "16  PRT  24.828829                    PRT           6.104096\n",
       "17  RUS  11.570946                    RUS           3.852077\n",
       "18  ESP   7.486062                    ESP           5.267618\n",
       "19  SWE  18.068514                    SWE           7.485732\n",
       "20  CHE  13.067481                    CHE           8.340488\n",
       "21  TUR  11.985173                    TUR           3.988372\n",
       "22  GBR  26.438923                    GBR          15.047389\n",
       "23  ARG  23.824149                    ARG           7.077039\n",
       "24  BRA  21.177418                    BRA          11.801849\n",
       "25  CHL  10.005191                    CHL          13.759062\n",
       "26  COL   8.138659                    COL          34.718387\n",
       "27  ECU  13.280212                    ECU          30.468275\n",
       "28  PER   9.666601                    PER          15.189731\n",
       "29  VEN        NaN                    VEN          37.273747\n",
       "30  CRI  49.105299                    CRI          29.263770\n",
       "31  HND  17.760618                    HND          50.381498\n",
       "32  MEX  81.227121                    MEX          69.853170\n",
       "33  PAN  47.045952                    PAN           7.120881\n",
       "34  BRB  40.670330                    BRB          14.555807\n",
       "35  BMU  44.929922                    BMU           3.253179\n",
       "36  DOM  67.875318                    DOM          47.826556\n",
       "37  EGY   8.296943                    EGY           4.806042\n",
       "38  NGA        NaN                    NGA           9.006663\n",
       "39  ZAF  36.045335                    ZAF           5.475745\n",
       "40  ISR  58.431104                    ISR          31.310394\n",
       "41  SAU        NaN                    SAU           9.493747\n",
       "42  ARE   7.700757                    ARE           2.139736\n",
       "43  AUS  16.499712                    AUS           4.572268\n",
       "44  CHN  35.681397                    CHN          18.431125\n",
       "45  HKG  67.113412                    HKG           7.475750\n",
       "46  IND  63.592052                    IND          16.592748\n",
       "47  IDN   2.165778                    IDN          11.119513\n",
       "48  JPN  17.951514                    JPN          17.819089\n",
       "49  KOR  18.203536                    KOR          12.862772\n",
       "50  MYS  39.596299                    MYS          13.314190\n",
       "51  NZL  35.342186                    NZL          11.140590\n",
       "52  PHL  35.908844                    PHL          12.563752\n",
       "53  SGP  11.916034                    SGP           8.174683\n",
       "54  THA  31.029396                    THA          11.844928"
      ]
     },
     "execution_count": 59,
     "metadata": {},
     "output_type": "execute_result"
    }
   ],
   "source": [
    "bea_data[['CODE', 'US_WEIGHT']].merge(\n",
    "    comtrade_data_grouped[['AFFILIATE_COUNTRY_CODE', 'US_WEIGHT_EXPORTS']],\n",
    "    how='inner',\n",
    "    left_on='CODE', right_on='AFFILIATE_COUNTRY_CODE'\n",
    ")"
   ]
  }
 ],
 "metadata": {
  "kernelspec": {
   "display_name": "Python 3",
   "language": "python",
   "name": "python3"
  },
  "language_info": {
   "codemirror_mode": {
    "name": "ipython",
    "version": 3
   },
   "file_extension": ".py",
   "mimetype": "text/x-python",
   "name": "python",
   "nbconvert_exporter": "python",
   "pygments_lexer": "ipython3",
   "version": "3.7.7"
  },
  "toc": {
   "base_numbering": 1,
   "nav_menu": {},
   "number_sections": false,
   "sideBar": true,
   "skip_h1_title": false,
   "title_cell": "Table of Contents",
   "title_sidebar": "Contents",
   "toc_cell": false,
   "toc_position": {},
   "toc_section_display": true,
   "toc_window_display": true
  }
 },
 "nbformat": 4,
 "nbformat_minor": 4
}
